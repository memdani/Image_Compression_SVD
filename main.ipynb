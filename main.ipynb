{
  "nbformat": 4,
  "nbformat_minor": 0,
  "metadata": {
    "colab": {
      "name": "Copy of Out_of_Bounds_2_SVD.ipynb",
      "provenance": [],
      "collapsed_sections": [],
      "include_colab_link": true
    },
    "kernelspec": {
      "name": "python3",
      "display_name": "Python 3"
    }
  },
  "cells": [
    {
      "cell_type": "markdown",
      "metadata": {
        "id": "view-in-github",
        "colab_type": "text"
      },
      "source": [
        "<a href=\"https://colab.research.google.com/github/priyanshu-28/Image_Compression/blob/main/main.ipynb\" target=\"_parent\"><img src=\"https://colab.research.google.com/assets/colab-badge.svg\" alt=\"Open In Colab\"/></a>"
      ]
    },
    {
      "cell_type": "markdown",
      "metadata": {
        "id": "OEXYLMbjBmdg"
      },
      "source": [
        "# *IMPORTING LIBRARIES*"
      ]
    },
    {
      "cell_type": "code",
      "metadata": {
        "id": "PaSFVKQTNuzT"
      },
      "source": [
        "import math, time, copy\n",
        "from operator import itemgetter\n",
        "\n",
        "import numpy as np\n",
        "from scipy import misc\n",
        "import matplotlib.pyplot as plt\n",
        "from tabulate import tabulate\n",
        "from matplotlib.image import imread, imsave\n",
        "\n",
        "\n",
        "first_item = itemgetter(0)"
      ],
      "execution_count": 80,
      "outputs": []
    },
    {
      "cell_type": "markdown",
      "metadata": {
        "id": "8a8Ah6oxOKXI"
      },
      "source": [
        "# *SOME UTILITY FUNCTIONS*"
      ]
    },
    {
      "cell_type": "code",
      "metadata": {
        "id": "yY8G9dCxORZ2"
      },
      "source": [
        "def print_matrix(matrix):\n",
        "\t'''\n",
        "\t\tFunction to print a matrix\n",
        "\t'''\n",
        "\n",
        "\tfor row in matrix:\n",
        "\t\tfor col in row:\n",
        "\t\t\tprint('%.3f' %col, end=' ')\n",
        "\t\tprint()\n",
        "\t\t\n",
        "\n",
        "def rows(matrix):\n",
        "\t'''\n",
        "\t\tReturns the no. of rows of a matrix\n",
        "\t'''\n",
        "\n",
        "\tif type(matrix) != list:\n",
        "\t\treturn 1\n",
        "\treturn len(matrix)\n",
        "\n",
        "\n",
        "def cols(matrix):\n",
        "\t'''\n",
        "\t\tReturns the no. of columns of a matrix\n",
        "\t'''\n",
        "\n",
        "\tif type(matrix[0]) != list:\n",
        "\t\treturn 1\n",
        "\treturn len(matrix[0])\n",
        "\n",
        "\n",
        "def eye(size):\n",
        "\t'''\n",
        "\t\tReturns an identity matrix\n",
        "\t'''\n",
        "\n",
        "\tmat = list()\n",
        "\tfor r in range(size):\n",
        "\t\trow = list()\n",
        "\t\tfor c in range(size):\n",
        "\t\t\tif r == c:\n",
        "\t\t\t\trow.append(1)\n",
        "\t\t\telse:\n",
        "\t\t\t\trow.append(0)\n",
        "\t\tmat.append(row)\n",
        "\n",
        "\treturn mat\t\n",
        "\n",
        "\n",
        "def pivot_index(row):\n",
        "\t'''\n",
        "\t\tReturns the index of pivot in a row\n",
        "\t'''\n",
        "\n",
        "\tcounter = 0\n",
        "\n",
        "\tfor element in row:\n",
        "\t\tif element != float(0):\n",
        "\t\t\treturn counter\n",
        "\t\tcounter += 1\n",
        "\n",
        "\treturn counter\n",
        "\n",
        "\n",
        "def pivot_value(row):\n",
        "\t'''\n",
        "\t\tReturns the value of pivot in a row\n",
        "\t'''\n",
        "\n",
        "\tfor element in row:\n",
        "\t\tif element > math.exp(-8):\n",
        "\t\t\treturn element\n",
        "\t\t\n",
        "\treturn 0\n",
        "\n",
        "\n",
        "def swap(matrix, index_1, index_2):\n",
        "\t'''\n",
        "\t\tFunction to swap two rows\n",
        "\t'''\n",
        "\n",
        "\tx = matrix[index_1]\n",
        "\tmatrix[index_1] = matrix[index_2]\n",
        "\tmatrix[index_2] = x\n",
        "\n",
        "\n",
        "def transpose(matrix):\n",
        "\t'''\n",
        "\t\tReturns the transpose of a matrix\n",
        "\t'''\n",
        "\n",
        "\ttranspose_matrix = list()\n",
        "\n",
        "\tfor i in range(cols(matrix)):\n",
        "\t\trow = list()\n",
        "\n",
        "\t\tfor j in range(rows(matrix)):\n",
        "\t\t\trow.append(matrix[j][i])\n",
        "\n",
        "\t\ttranspose_matrix.append(row)\n",
        "\n",
        "\treturn transpose_matrix\n",
        "\n",
        "\n",
        "def mat_multiply(a, b):\n",
        "\t'''\n",
        "\t\tFunction to multiply two matrices\n",
        "\t'''\n",
        "\n",
        "\tc = [[0 for i in range(cols(b))] for j in range(rows(a))] \n",
        " \n",
        "\tfor i in range(rows(a)):\n",
        "\t\tfor j in range(cols(b)):\n",
        "\t\t\tfor k in range(rows(b)):\n",
        "\t\t\t\tc[i][j] += a[i][k] * b[k][j]\n",
        "\treturn c\n",
        "\n",
        "\n",
        "def mat_splice(matrix, r, c):\n",
        "\t'''\n",
        "\t\tFunction which returns a matrix with the first r rows and first c \n",
        "\t\tcolumns of the original matrix\n",
        "\t'''\n",
        "\n",
        "\tresult = list()\n",
        "\t\n",
        "\tfor i in range(r):\n",
        "\t\trow = matrix[i]\n",
        "\t\tresult.append(row[:c])\n",
        "  \n",
        "\treturn result\n",
        "\n",
        "\n",
        "def to_int(matrix):\n",
        "\t'''\n",
        "\t\tFunction to convert the eact element of the matrix to int\n",
        "\t'''\n",
        "\n",
        "\tfor row in range(rows(matrix)):\n",
        "\t\tfor col in range(cols(matrix)):\n",
        "\t\t\tfor j in range(3):\n",
        "\t\t\t\tmatrix[row][col][j] = int(matrix[row][col][j])\t\n",
        "\n",
        "\n",
        "def clip(matrix):\n",
        "\t'''\n",
        "\t\tFunction to clip each element to the range float[0, 1]\n",
        "\t'''\n",
        "\n",
        "\tfor row in range(rows(matrix)):\n",
        "\t\tfor col in range(cols(matrix)):\n",
        "\t\t\tfor j in range(3):\n",
        "\t\t\t\tif matrix[row][col][j] > 1:\n",
        "\t\t\t\t\tmatrix[row][col][j] = 1\n",
        "\t\t\t\tif matrix[row][col][j] < 0:\n",
        "\t\t\t\t\tmatrix[row][col][j] = 0"
      ],
      "execution_count": 81,
      "outputs": []
    },
    {
      "cell_type": "markdown",
      "metadata": {
        "id": "wOuim49HSRhK"
      },
      "source": [
        "# *FUNCTIONS RELATED TO QR DECOMPOSITION*"
      ]
    },
    {
      "cell_type": "code",
      "metadata": {
        "id": "aaALRQPhScYb"
      },
      "source": [
        "def is_diagonal(matrix):\n",
        "\t'''\n",
        "\t\tFunciton to check if the matrix is diagonal\n",
        "\t'''\n",
        "\tfor r in range(rows(matrix)):\n",
        "\t\tfor c in range(cols(matrix)):\n",
        "\t\t\tif r != c:\n",
        "\t\t\t\tif abs(matrix[r][c]) > math.exp(-8):\n",
        "\t\t\t\t\treturn False\n",
        "\treturn True\n",
        "\n",
        "\n",
        "def qr(matrix):\n",
        "\t'''\n",
        "\t\tFunciton whic returns the qr - decomposition of a matrix\n",
        "\t'''\n",
        "\n",
        "\toriginal = copy.deepcopy(matrix)\n",
        "\tQ = list()\n",
        "\n",
        "\tcounter = 0\n",
        "\tfor i in range(cols(matrix)):\n",
        "\t\tu = list()\n",
        "\t\tu.append(matrix[i])\n",
        "\n",
        "\t\t# Making the orthogonal basis by grahm schmidt\n",
        "\t\tfor j in range(0, counter):\n",
        "\t\t\tv_i = list()\n",
        "\t\t\tv_i.append(Q[j])\n",
        "\t\t\tv_i_transpose = transpose(v_i)\n",
        "\t\t\tv_dot_u = mat_multiply(u, v_i_transpose)\n",
        "\t\t\tfor i in range(cols(u)):\n",
        "\t\t\t\tu[0][i] = u[0][i] - v_i[0][i] * float(v_dot_u[0][0])\n",
        "\n",
        "\t\tnormalised_u = list()\n",
        "\t\tu_dot_u = mat_multiply(u, transpose(u))\n",
        "\t\tfor x in u[0]:\n",
        "\t\t\tif float(u_dot_u[0][0]) < math.exp(-8):\n",
        "\t\t\t\tx = 0\n",
        "\t\t\telse:\n",
        "\t\t\t\tx = x / math.sqrt(float(u_dot_u[0][0]))\n",
        "\t\t\tnormalised_u.append(x)\n",
        "\n",
        "\t\tQ.append(normalised_u)\n",
        "\t\tcounter += 1\n",
        "\n",
        "\t# Finding R by multiplying Q-Transpose With original matrix\n",
        "\tR = mat_multiply(Q, original)\n",
        "\tQ = transpose(Q)\n",
        "\n",
        "\treturn (Q, R)\n",
        "\t\t\n",
        "\n",
        "def qr_eig(matrix):\n",
        "\t'''\n",
        "\t\tFunciton which finds the eigenvalues and eigenvectors of a matrix \n",
        "\t\tusing QR decomposition\n",
        "\t'''\n",
        "\n",
        "\tcounter = 0\n",
        "\teig_vectors = eye(cols(matrix))\n",
        "\t\n",
        "\twhile not is_diagonal(matrix):\n",
        "\t\tq, r = qr(matrix)\n",
        "\t\teig_vectors = mat_multiply(eig_vectors, q)\n",
        "\t\tmatrix = mat_multiply(r, q)\n",
        "\t\tcounter += 1\n",
        "\n",
        "\treturn(eig_vectors, matrix, counter)"
      ],
      "execution_count": 82,
      "outputs": []
    },
    {
      "cell_type": "markdown",
      "metadata": {
        "id": "tqUBZ1OrPebq"
      },
      "source": [
        "#*SINGULAR VALUE DECOMPOSITION*"
      ]
    },
    {
      "cell_type": "code",
      "metadata": {
        "id": "hHCDTBVUPnGI"
      },
      "source": [
        "def svd(matrix, approach):\n",
        "\t\"\"\"\n",
        "\t\tFunciton to perform svd on a matrix\n",
        "\t\"\"\"\n",
        "\t\n",
        "\t# Getting the eigenvalues and vectors of transpose(A) * A for V and Sigma\n",
        "\ta = mat_multiply(transpose(matrix), matrix)\n",
        "\tV, sigma, iterations = qr_eig(a)\n",
        "\n",
        "\t# Sorting singular values and the colums of V accordingly\n",
        "\tV  = transpose(V)\n",
        "\n",
        "\tsingular_values = list()\n",
        "\tsorted_V = list()\n",
        "\t\n",
        "\tr = 0\n",
        "\tfor i in range(rows(sigma)):\n",
        "\t\tsingular_values.append([(sigma[i][i]), i])\n",
        "\t\tif sigma[i][i] > math.exp(-8):\n",
        "\t\t\tr += 1\n",
        "\n",
        "\tsingular_values.sort(key = first_item, reverse=True)\n",
        "\n",
        "\tsigma_r = eye(r)\n",
        "\tsigma_r_inv = eye(r) \n",
        "\n",
        "\t# Constructing the sorted U and sigma matrices\n",
        "\ti, j = 0, 0\n",
        "\tfor value in singular_values:\n",
        "\t\tif value[0] > math.exp(-8):\n",
        "\t\t\tsorted_V.append(V[value[1]])\n",
        "\t\t\tsigma_r[j][j] = value[0] ** (1/2)\n",
        "\t\t\tsigma_r_inv[j][j] = 1 / (value[0] ** (1/2))\n",
        "\t\t\tj += 1\n",
        "\t\ti += 1\n",
        "\n",
        "\n",
        "\t# Constructing U by multiplying V and sigma inverse\n",
        "\tsorted_U = mat_multiply(mat_multiply(matrix, transpose(sorted_V)), sigma_r_inv)\n",
        "\t\n",
        "\treturn (sorted_U, sigma_r, sorted_V, r, iterations) "
      ],
      "execution_count": 83,
      "outputs": []
    },
    {
      "cell_type": "markdown",
      "metadata": {
        "id": "67ByykEMSWWV"
      },
      "source": [
        "#*MAIN*"
      ]
    },
    {
      "cell_type": "code",
      "metadata": {
        "id": "Q5Zn1UbFSYds"
      },
      "source": [
        "# Reading the image into a 3-d matrix\n",
        "mat = imread('temp.png')\n",
        "\n",
        "# Splitting the r - g - b components\n",
        "r = mat[:, :, 0]\n",
        "g = mat[:, :, 1]\n",
        "b = mat[:, :, 2]\n",
        "\n",
        "# Converting the ndarrays to python list\n",
        "r = np.ndarray.tolist(r)\n",
        "g = np.ndarray.tolist(g)\n",
        "b = np.ndarray.tolist(b)\n",
        "\n",
        "\n",
        "# Performing SVD on r, g, b matrices using QR\n",
        "u_1_qr, s_1_qr, vt_1_qr, r_1_qr, iteration_1_qr = svd(r, 'qr')\n",
        "\n",
        "u_2_qr, s_2_qr, vt_2_qr, r_2_qr, iteration_2_qr = svd(g, 'qr')\n",
        "\n",
        "u_3_qr, s_3_qr, vt_3_qr, r_3_qr, iteration_3_qr = svd(b, 'qr')"
      ],
      "execution_count": 84,
      "outputs": []
    },
    {
      "cell_type": "code",
      "metadata": {
        "id": "iv5rMG5zyoiP",
        "colab": {
          "base_uri": "https://localhost:8080/",
          "height": 832
        },
        "outputId": "6f2060d9-9068-4b38-a466-d8958ca4c2d2"
      },
      "source": [
        "# Reconstructing low rank approximaiton of the original matrices\n",
        "def reconstruct(u1, s1, vt1, u2, s2, vt2, u3, s3, vt3, rank):\n",
        "    '''\n",
        "        Function to reconstruct the final matrix\n",
        "    '''\n",
        "    reconst_r = mat_multiply(\n",
        "        mat_multiply(mat_splice(u1, rows(u1), rank), mat_splice(s1, rank, rank)), \n",
        "        mat_splice(vt1, rank, cols(vt1)))\n",
        "    reconst_g = mat_multiply(\n",
        "        mat_multiply(mat_splice(u2, rows(u2), rank), mat_splice(s2, rank, rank)), \n",
        "        mat_splice(vt2, rank, cols(vt2)))\n",
        "    reconst_b = mat_multiply(\n",
        "        mat_multiply(mat_splice(u3, rows(u3), rank), mat_splice(s3, rank, rank)), \n",
        "        mat_splice(vt3, rank, cols(vt3)))\n",
        "\n",
        "    final = list()\n",
        "    data_type = 'float'\n",
        "\n",
        "    # Combining R, G and B matrixes to form a 3-D matrix\n",
        "    for i in range(rows(reconst_r)):\n",
        "        row = list()\n",
        "        for j in range(cols(reconst_r)):\n",
        "            pixel = list()\n",
        "            pixel.append((reconst_r[i][j]))\n",
        "            pixel.append((reconst_g[i][j]))\n",
        "            pixel.append((reconst_b[i][j]))\n",
        "            if int(reconst_b[i][j]) > 1 and data_type != 'int':\n",
        "                data_type = 'int'\n",
        "            row.append(pixel)\n",
        "        final.append(row)\n",
        "\n",
        "    # Clipping input data to the valid range for imshow with RGB data ([0..1] for floats or [0..255] for integers\n",
        "    if data_type == 'int':\n",
        "        to_int(final)\n",
        "    else:\n",
        "        clip(final)\n",
        "\n",
        "    return final\n",
        "\n",
        "final_qr = reconstruct(u_1_qr, s_1_qr, vt_1_qr, \n",
        "                       u_2_qr, s_2_qr, vt_2_qr, \n",
        "                       u_3_qr, s_3_qr, vt_3_qr, 11)\n",
        "\n",
        "fig, a = plt.subplots(2,2)\n",
        "plt.rc_context({'axes.edgecolor':'white', 'xtick.color':'white', \n",
        "                'ytick.color':'white', 'figure.figsize':[18, 12]})\n",
        "\n",
        "a[0][0].imshow(final_qr)\n",
        "a[0][0].set_title('QR', color='b', fontsize= 50)\n",
        "\n",
        "a[1][0].imshow(mat)\n",
        "a[1][0].set_title('ORIGINAL', color='b', fontsize= 50)\n",
        "\n",
        "fig.tight_layout(pad=3)\n",
        "plt.show()"
      ],
      "execution_count": 85,
      "outputs": [
        {
          "output_type": "display_data",
          "data": {
            "image/png": "[encoded data removed]",
            "text/plain": [
              "<Figure size 1296x864 with 4 Axes>"
            ]
          },
          "metadata": {
            "needs_background": "dark"
          }
        }
      ]
    },
    {
      "cell_type": "markdown",
      "metadata": {
        "id": "AoLLn7YE4-Dt"
      },
      "source": [
        "# *ANALYSIS*"
      ]
    },
    {
      "cell_type": "code",
      "metadata": {
        "id": "q0UpOkbV5PFY",
        "colab": {
          "base_uri": "https://localhost:8080/"
        },
        "outputId": "dbd89be0-08a0-4547-ce5d-765e11bccbc1"
      },
      "source": [
        "def mean_square(mat_a, mat_b):\n",
        "    '''\n",
        "        Function which defines the mean square error between two matrices\n",
        "    '''\n",
        "\n",
        "    error = 0\n",
        "    for i in range(rows(mat_a)):\n",
        "        for j in range(cols(mat_a)):\n",
        "            for k in range(3):\n",
        "                error += math.pow((mat_a[i][j][k] - mat_b[i][j][k]), 2)\n",
        "\n",
        "    error = error / (rows(mat_a) * cols(mat_a))\n",
        "    return error\n",
        "\n",
        "print(\"MEAN SQUARE ERRORS:\")\n",
        "print()\n",
        "print(tabulate([[\"QR\", mean_square(mat.tolist(), final_qr)]], \n",
        "                headers=['APPROACH', 'MEAN ERROR']))"
      ],
      "execution_count": 86,
      "outputs": [
        {
          "output_type": "stream",
          "name": "stdout",
          "text": [
            "MEAN SQUARE ERRORS:\n",
            "\n",
            "APPROACH      MEAN ERROR\n",
            "----------  ------------\n",
            "QR             0.0034153\n"
          ]
        }
      ]
    }
  ]
}